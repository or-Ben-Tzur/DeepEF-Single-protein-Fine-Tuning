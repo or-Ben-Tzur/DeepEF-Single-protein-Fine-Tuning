{
 "cells": [
  {
   "attachments": {},
   "cell_type": "markdown",
   "metadata": {},
   "source": [
    "# Score matching notebook"
   ]
  },
  {
   "cell_type": "code",
   "execution_count": 1,
   "metadata": {},
   "outputs": [
    {
     "name": "stderr",
     "output_type": "stream",
     "text": [
      "/home/shaharax/.conda/envs/esm2_env/lib/python3.7/site-packages/tqdm/auto.py:22: TqdmWarning: IProgress not found. Please update jupyter and ipywidgets. See https://ipywidgets.readthedocs.io/en/stable/user_install.html\n",
      "  from .autonotebook import tqdm as notebook_tqdm\n"
     ]
    },
    {
     "name": "stdout",
     "output_type": "stream",
     "text": [
      "sample shape: torch.Size([2805])\n"
     ]
    }
   ],
   "source": [
    "import torch\n",
    "import torch.nn as nn\n",
    "import torch.optim as optim\n",
    "import matplotlib.pyplot as plt\n",
    "from tqdm import tqdm   # For progress bar\n",
    "\n",
    "# Define the neural network\n",
    "class MyNet(nn.Module):\n",
    "    def __init__(self):\n",
    "        super(MyNet, self).__init__()\n",
    "        self.fc1 = nn.Linear(1, 10)\n",
    "        self.fc2 = nn.Linear(10, 3)\n",
    "        self.fc3 = nn.Linear(3, 1)\n",
    "    def forward(self, x):\n",
    "        x = torch.relu(self.fc1(x))\n",
    "        x =torch.relu(self.fc2(x))\n",
    "        x = self.fc3(x)\n",
    "        return x\n",
    "\n",
    "\n",
    "\n",
    "def energy(x):\n",
    "    return x**2\n",
    "\n",
    "def get_sample(n):\n",
    "    beta = 1/0.001\n",
    "    x = torch.rand(n)*20 -10\n",
    "    y = torch.exp(-beta*energy(x))\n",
    "    z = torch.rand(n)\n",
    "    i = (y - z)>0\n",
    "    return x[i]\n",
    "# a = sample(10000)\n",
    "# print(a.shape)\n",
    "# # print(a)\n",
    "# print(torch.max(a))\n",
    "# print(torch.min(a))\n",
    "\n",
    "# plt.hist(a.detach().numpy(),bins=5)\n",
    "# plt.show()\n",
    "# Create an input tensor\n",
    "# input_tensor = torch.randn((20, 4, 3), requires_grad=True)\n",
    "\n",
    "\n",
    "# Define the score matching loss function\n",
    "def score_matching_loss(output,input,input_noise):\n",
    "    input_grad = torch.autograd.grad(outputs=output, inputs=input, grad_outputs=torch.ones_like(output), create_graph=True)[0]\n",
    "    # loss = torch.mean(torch.sum(input_grad**2))\n",
    "    loss = 0.5* torch.norm(input_grad-input_noise,p=2)**2\n",
    "    return loss\n",
    "\n",
    "# set progess bar\n",
    "# tepoch = tqdm(range(1000000))\n",
    "# for epoch in tepoch:\n",
    "#     # Create an input tensor\n",
    "device = torch.device(\"cuda:0\" if torch.cuda.is_available() else \"cpu\")\n",
    "# Create an instance of the network\n",
    "net = MyNet().to(device)\n",
    "optimizer = optim.SGD(net.parameters(), lr=0.001)\n",
    "\n",
    "samples = get_sample(1000000)\n",
    "print(\"sample shape:\",samples.shape)\n"
   ]
  },
  {
   "cell_type": "code",
   "execution_count": null,
   "metadata": {},
   "outputs": [],
   "source": [
    "print(\"sample shape:\",samples.shape)\n",
    "for epoch in range(20):\n",
    "    running_loss = 0.0\n",
    "    with tqdm(samples, unit=\"batch\") as tepoch:\n",
    "        for i, sample in enumerate(tepoch):\n",
    "            optimizer.zero_grad()\n",
    "            # set progress bar description\n",
    "            tepoch.set_description(f\"Epoch {epoch}\")\n",
    "            \n",
    "            sample = sample.to(device)\n",
    "            input_tensor = torch.tensor(sample.unsqueeze(0), requires_grad=True).to(device)\n",
    "            input_noise = torch.randn(1, requires_grad=True).to(device)\n",
    "            input_tensor = input_tensor + input_noise\n",
    "            \n",
    "            # Pass the input through the network\n",
    "            output = net(input_tensor)\n",
    "            # Compute the score matching loss\n",
    "            loss = score_matching_loss(output,input_tensor,input_noise)\n",
    "\n",
    "            # print(\"Loss:\", loss.item())\n",
    "            running_loss += loss.item()\n",
    "            # Perform backpropagation and update the network's parameters\n",
    "            \n",
    "            loss.backward()\n",
    "            optimizer.step()\n",
    "            torch.cuda.empty_cache()\n",
    "            # update progress bar\n",
    "            tepoch.set_postfix(loss=round(loss.item(),3),running_loss=round(running_loss/(i+1),3))\n",
    "            \n",
    "        print(f'[{epoch + 1}, {i + 1:5d}] loss: {running_loss / 2000:.3f}')\n"
   ]
  },
  {
   "cell_type": "code",
   "execution_count": 8,
   "metadata": {},
   "outputs": [
    {
     "name": "stdout",
     "output_type": "stream",
     "text": [
      "epoch:0, loss:0.117\n",
      "epoch:1, loss:0.001\n",
      "epoch:2, loss:0.004\n",
      "epoch:3, loss:0.149\n",
      "epoch:4, loss:0.44\n",
      "epoch:5, loss:0.006\n",
      "epoch:6, loss:0.108\n",
      "epoch:7, loss:0.006\n",
      "epoch:8, loss:0.083\n",
      "epoch:9, loss:0.401\n",
      "epoch:10, loss:0.163\n",
      "epoch:11, loss:0.275\n",
      "epoch:12, loss:0.735\n",
      "epoch:13, loss:0.168\n",
      "epoch:14, loss:3.656\n",
      "epoch:15, loss:0.018\n",
      "epoch:16, loss:0.781\n",
      "epoch:17, loss:0.004\n",
      "epoch:18, loss:0.573\n",
      "epoch:19, loss:0.001\n",
      "epoch:20, loss:0.034\n",
      "epoch:21, loss:0.204\n",
      "epoch:22, loss:0.33\n",
      "epoch:23, loss:2.654\n",
      "epoch:24, loss:0.043\n",
      "epoch:25, loss:0.248\n",
      "epoch:26, loss:0.293\n",
      "epoch:27, loss:0.135\n",
      "epoch:28, loss:0.423\n",
      "epoch:29, loss:0.043\n"
     ]
    },
    {
     "name": "stderr",
     "output_type": "stream",
     "text": [
      "/home/shaharax/.conda/envs/esm2_env/lib/python3.7/site-packages/ipykernel_launcher.py:11: UserWarning: To copy construct from a tensor, it is recommended to use sourceTensor.clone().detach() or sourceTensor.clone().detach().requires_grad_(True), rather than torch.tensor(sourceTensor).\n",
      "  # This is added back by InteractiveShellApp.init_path()\n"
     ]
    }
   ],
   "source": [
    "samples = get_sample(100000)\n",
    "samples = samples.unsqueeze(1).to(device)\n",
    "device = torch.device(\"cuda:0\" if torch.cuda.is_available() else \"cpu\")\n",
    "# Create an instance of the network\n",
    "net = MyNet().to(device)\n",
    "optimizer = optim.SGD(net.parameters(), lr=0.001)\n",
    "\n",
    "for epoch in range(30):\n",
    "    optimizer.zero_grad()\n",
    "\n",
    "    input_tensor = torch.tensor(samples, requires_grad=True).to(device)\n",
    "    input_noise = torch.randn(1, requires_grad=True).to(device)\n",
    "    input_tensor = input_tensor + input_noise\n",
    "    # Pass the input through the network\n",
    "    output = net(input_tensor)\n",
    "    # Compute the score matching loss\n",
    "    loss = score_matching_loss(output,input_tensor,input_noise)\n",
    "    print(f\"epoch:{epoch}, loss:{round(loss.item()/samples.shape[0],3)}\")\n",
    "    loss.backward()\n",
    "    optimizer.step()\n",
    "    torch.cuda.empty_cache()"
   ]
  },
  {
   "cell_type": "code",
   "execution_count": 9,
   "metadata": {},
   "outputs": [
    {
     "data": {
      "text/plain": [
       "[<matplotlib.lines.Line2D at 0x7f062573b450>]"
      ]
     },
     "execution_count": 9,
     "metadata": {},
     "output_type": "execute_result"
    },
    {
     "data": {
      "image/png": "[encoded data removed]",
      "text/plain": [
       "<Figure size 640x480 with 1 Axes>"
      ]
     },
     "metadata": {},
     "output_type": "display_data"
    }
   ],
   "source": [
    "# Generate a plot of the network's output\n",
    "torch_range = torch.arange(-10,10,0.1).to(device)\n",
    "y = net(torch_range.unsqueeze(1))\n",
    "plt.plot(torch_range.detach().cpu().numpy(),y.detach().cpu().numpy())"
   ]
  },
  {
   "cell_type": "code",
   "execution_count": null,
   "metadata": {},
   "outputs": [],
   "source": []
  }
 ],
 "metadata": {
  "kernelspec": {
   "display_name": "esm2_env",
   "language": "python",
   "name": "python3"
  },
  "language_info": {
   "codemirror_mode": {
    "name": "ipython",
    "version": 3
   },
   "file_extension": ".py",
   "mimetype": "text/x-python",
   "name": "python",
   "nbconvert_exporter": "python",
   "pygments_lexer": "ipython3",
   "version": "3.7.12"
  },
  "orig_nbformat": 4
 },
 "nbformat": 4,
 "nbformat_minor": 2
}
