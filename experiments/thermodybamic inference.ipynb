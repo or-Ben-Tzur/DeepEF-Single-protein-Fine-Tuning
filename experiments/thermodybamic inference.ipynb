{
 "cells": [
  {
   "cell_type": "markdown",
   "metadata": {},
   "source": [
    "# Inference the results of the thrmodynamic experiment"
   ]
  },
  {
   "cell_type": "code",
   "execution_count": 1,
   "metadata": {},
   "outputs": [],
   "source": [
    "import sys\n",
    "import gc\n",
    "sys.path.append('../')"
   ]
  },
  {
   "cell_type": "code",
   "execution_count": 2,
   "metadata": {},
   "outputs": [],
   "source": [
    "from model.data_loader import fetch_dataloader,fetch_inference_loader\n",
    "from model.data_loader import params as data_params\n",
    "from model.model_cfg import CFG\n",
    "# from model.net import ProteinEnergyNet\n",
    "from model.hydro_net import PEM\n",
    "from train_utils import *\n",
    "import torch\n",
    "import torch.nn.functional as F\n",
    "from torch import optim\n",
    "from torch.optim import lr_scheduler\n",
    "from tqdm import tqdm\n",
    "import gc\n",
    "import time\n",
    "import sys\n",
    "import glob\n",
    "import pandas as pd\n",
    "import wandb\n",
    "import constants as C"
   ]
  },
  {
   "cell_type": "code",
   "execution_count": 3,
   "metadata": {},
   "outputs": [
    {
     "data": {
      "text/plain": [
       "'/cs/casp15/Shahar/DeepPEF'"
      ]
     },
     "execution_count": 3,
     "metadata": {},
     "output_type": "execute_result"
    }
   ],
   "source": [
    "os.chdir(\"../\")\n",
    "os.getcwd()"
   ]
  },
  {
   "cell_type": "markdown",
   "metadata": {},
   "source": [
    "# Inference some examples"
   ]
  },
  {
   "cell_type": "code",
   "execution_count": 4,
   "metadata": {},
   "outputs": [
    {
     "name": "stdout",
     "output_type": "stream",
     "text": [
      "Number of parameters: 393517\n"
     ]
    }
   ],
   "source": [
    "model = PEM(layers=CFG.num_layers,gaussian_coef=CFG.gaussian_coef).to(CFG.device)\n",
    "model.name = \"PEM-thermodynamic cycle\"\n",
    "# optimizer = optim.Adam(model.parameters(), lr=CFG.lr, weight_decay=CFG.wd)\n",
    "optimizer = optim.SGD(model.parameters(), lr=CFG.lr)\n",
    "# Get total number of parameters\n",
    "total_params = sum(p.numel() for p in model.parameters())\n",
    "print(f\"Number of parameters: {total_params}\")"
   ]
  },
  {
   "cell_type": "code",
   "execution_count": 5,
   "metadata": {},
   "outputs": [
    {
     "data": {
      "text/plain": [
       "'./res/trianed_models-newDecoys/'"
      ]
     },
     "execution_count": 5,
     "metadata": {},
     "output_type": "execute_result"
    }
   ],
   "source": [
    "CFG.model_path"
   ]
  },
  {
   "cell_type": "code",
   "execution_count": 6,
   "metadata": {},
   "outputs": [
    {
     "name": "stdout",
     "output_type": "stream",
     "text": [
      "Loaded model from ./res/trianed_models-no_exdu_nosigmoid//best_model.pt\n"
     ]
    }
   ],
   "source": [
    "model_path = \"./res/trianed_models-no_exdu_nosigmoid//best_model.pt\"\n",
    "model,optimizer,epoch,loss,valid_loss = load_checkpoint(model_path,model,optimizer,device=CFG.device)"
   ]
  },
  {
   "cell_type": "markdown",
   "metadata": {},
   "source": [
    "1A0N example"
   ]
  },
  {
   "cell_type": "code",
   "execution_count": 53,
   "metadata": {},
   "outputs": [],
   "source": [
    "def add_cb(crd_coords):\n",
    "        \"\"\"\n",
    "        Add the Cbeta atom to the coordinates\n",
    "        Args:\n",
    "            crd_coords (tensor): tensor of shape [n_residues,3,3]\n",
    "\n",
    "        Returns:\n",
    "            crd_coords: tensor shape [n_residues,4,3]\n",
    "        \"\"\"\n",
    "        # Get the coordinates of the backbone atoms\n",
    "        N, CA, C = crd_coords[:, 0], crd_coords[:, 1], crd_coords[:, 2]\n",
    "        # CB = CA + c1*(N-CA) + c2*(C-CA) + c3* (N-CA)x(C-CA)\n",
    "        CAmN = N - CA\n",
    "        # CAmN = CAmN / torch.sqrt(CAmN ** 2).sum(dim=2, keepdim=True)\n",
    "        CAmC = C - CA\n",
    "        # CAmC = CAmC / torch.sqrt(CAmC ** 2).sum(dim=2, keepdim=True)\n",
    "        ANxAC = torch.cross(CAmN, CAmC, dim=1)\n",
    "\n",
    "        A = torch.cat((CAmN.reshape(-1, 1), CAmC.reshape(-1, 1), ANxAC.reshape(-1, 1)), dim=1)\n",
    "        c = torch.tensor([0.5507, 0.5354, -0.5691]) / 100  # torch.tensor([1.1930, 1.2106, -2.7906]) #\n",
    "        b = (A @ c).reshape(-1,3)\n",
    "        CB = CA - b\n",
    "      \n",
    "        # Add Cbeta coordinates to existing coordinates array\n",
    "        crd_coords = torch.cat((crd_coords, CB.unsqueeze(1)), dim=1)\n",
    "        return crd_coords\n",
    "    "
   ]
  },
  {
   "cell_type": "code",
   "execution_count": 71,
   "metadata": {},
   "outputs": [],
   "source": [
    "\n",
    "data_dir = glob.glob('./data/casp12_data_30/train/*')\n",
    "item_path = './data/casp12_data_100/train/1A0N_2_B'\n",
    "# item_path = './data/casp12_data_100/train/1WR4_1_A'\n",
    "# item_path = './data/casp12_data_100/train/2B89_1_A'\n",
    "decoy_path = data_dir[np.random.randint(len(data_dir))]\n",
    "while decoy_path == item_path:\n",
    "    decoy_path = data_dir[np.random.randint(len(data_dir))]\n",
    "# load data\n",
    "id = torch.load(item_path + '/id.pt')\n",
    "crd_backbone = torch.tensor(torch.load(item_path + '/crd_backbone.pt'),dtype=torch.get_default_dtype()) #backbone coordinates N,Calpha,C\n",
    "crd_decoy = torch.tensor(torch.load(decoy_path + '/crd_backbone.pt'),dtype=torch.get_default_dtype()) #backbone coordinates N,Calpha,C\n",
    "\n",
    "mask = torch.load(item_path + '/mask.pt')\n",
    "mask_decoy = torch.load(decoy_path + '/mask.pt')\n",
    "# change to 1,0 mask\n",
    "mask = torch.tensor(np.where(np.array(list(mask))=='+',1,0))\n",
    "mask_decoy = torch.tensor(np.where(np.array(list(mask_decoy))=='+',1,0))\n",
    "# one hot encoding of the sequence\n",
    "seq_one_hot = torch.load(item_path + '/seq_one_hot.pt')\n",
    "seq = torch.load(item_path + '/seq.pt')\n",
    "seq_decoy = torch.load(decoy_path + '/seq.pt')\n",
    "proT5_emb = torch.load(item_path + '/proT5_emb.pt')\n",
    "# proT5_emb = torch.zeros((len(seq),1024)) # for testing\n",
    "ang = torch.tensor(torch.load(item_path + '/ang.pt'))\n",
    "ang_backbone = torch.clone(ang)[:,:3] #angles for the backbone phi, psi, omega\n",
    "# Add Cbeta atom to the coordinates\n",
    "crd_backbone = add_cb(crd_backbone)\n",
    "crd_decoy = add_cb(crd_decoy)\n",
    "# Convert to angstrom\n",
    "crd_backbone = crd_backbone * C.NANO_TO_ANGSTROM \n",
    "crd_decoy = crd_decoy * C.NANO_TO_ANGSTROM \n",
    "\n",
    "# ProT5 embedding for protein mutation\n",
    "proT5_mut = torch.load(item_path + '/proT5_emb_mut.pt')\n",
    "seq_mut =  torch.load(item_path + '/seq_mut.pt')\n",
    "# proT5_mut = torch.zeros((len(seq),1024)) # for testing\n",
    "# seq_mut = seq # for testing\n",
    "# unsqueeze the data and save it in a list\n",
    "data = id, crd_backbone.unsqueeze(0), mask.unsqueeze(0), seq_one_hot.unsqueeze(0), seq,ang_backbone.unsqueeze(0),ang.unsqueeze(0), proT5_emb.unsqueeze(0), proT5_mut.unsqueeze(0),[seq_mut],\\\n",
    "    crd_decoy.unsqueeze(0), mask_decoy.unsqueeze(0), [seq_decoy]"
   ]
  },
  {
   "cell_type": "code",
   "execution_count": 72,
   "metadata": {},
   "outputs": [
    {
     "name": "stdout",
     "output_type": "stream",
     "text": [
      "[41, 66]\n",
      "E A\n"
     ]
    }
   ],
   "source": [
    "s1 = seq\n",
    "s2 = seq_mut\n",
    "# get diffrent characters\n",
    "diff = []\n",
    "for i in range(len(s1)):\n",
    "    if s1[i] != s2[i]:\n",
    "        diff.append(i)\n",
    "print(diff)\n",
    "print(s1[diff[0]],s2[diff[0]])"
   ]
  },
  {
   "cell_type": "code",
   "execution_count": 73,
   "metadata": {},
   "outputs": [
    {
     "data": {
      "text/plain": [
       "tensor([0, 0, 0, 0, 1, 1, 1, 1, 1, 1, 1, 1, 1, 1, 1, 1, 1, 1, 1, 1, 1, 1, 1, 1,\n",
       "        1, 1, 1, 1, 1, 1, 1, 1, 1, 1, 1, 1, 1, 1, 1, 1, 1, 1, 1, 1, 1, 1, 1, 1,\n",
       "        1, 1, 1, 1, 1, 1, 1, 1, 1, 1, 1, 1, 1, 1, 0, 0, 0, 0, 0, 0, 0])"
      ]
     },
     "execution_count": 73,
     "metadata": {},
     "output_type": "execute_result"
    }
   ],
   "source": [
    "mask"
   ]
  },
  {
   "cell_type": "code",
   "execution_count": 74,
   "metadata": {},
   "outputs": [
    {
     "name": "stdout",
     "output_type": "stream",
     "text": [
      "id: 1A0N_2_B\n",
      "crd_backbone: torch.Size([1, 69, 4, 3])\n",
      "mask: torch.Size([1, 69])\n",
      "seq_one_hot: torch.Size([1, 69, 20])\n",
      "seq: GSTGVTLFVALYDYEARTEDDLSFHKGEKFQILNSSEGDWWEARSLTTGETGYIPSNYVAPVDSIQAEE\n",
      "ang_backbone: torch.Size([1, 69, 3])\n",
      "ang: torch.Size([1, 69, 12])\n",
      "proT5_emb: torch.Size([1, 69, 1024])\n",
      "proT5_mut: torch.Size([1, 69, 1024])\n",
      "seq_mut: 1\n",
      "crd_decoy: torch.Size([1, 135, 4, 3])\n",
      "mask_crd_decoy: torch.Size([1, 135])\n",
      "seq_crd_decoy: 1\n"
     ]
    }
   ],
   "source": [
    "def print_shapes(data):\n",
    "    id, crd_backbone, mask, seq_one_hot, seq,ang_backbone, ang,\\\n",
    "                proT5_emb, proT5_mut,seq_mut, crd_decoy, mask_crd_decoy, seq_crd_decoy = data\n",
    "    print(f\"id: {id}\")\n",
    "    print(f\"crd_backbone: {crd_backbone.shape}\")\n",
    "    print(f\"mask: {mask.shape}\")\n",
    "    print(f\"seq_one_hot: {seq_one_hot.shape}\")\n",
    "    print(f\"seq: {seq}\")\n",
    "    print(f\"ang_backbone: {ang_backbone.shape}\")\n",
    "    print(f\"ang: {ang.shape}\")\n",
    "    print(f\"proT5_emb: {proT5_emb.shape}\")\n",
    "    print(f\"proT5_mut: {proT5_mut.shape}\")\n",
    "    print(f\"seq_mut: {len(seq_mut)}\")\n",
    "    print(f\"crd_decoy: {crd_decoy.shape}\")\n",
    "    print(f\"mask_crd_decoy: {mask_crd_decoy.shape}\")\n",
    "    print(f\"seq_crd_decoy: {len(seq_crd_decoy)}\")\n",
    "    return\n",
    "print_shapes(data)"
   ]
  },
  {
   "cell_type": "code",
   "execution_count": 58,
   "metadata": {},
   "outputs": [
    {
     "name": "stdout",
     "output_type": "stream",
     "text": [
      "id: 1A0N_2_B\n",
      "crd_backbone: torch.Size([1, 500, 4, 3])\n",
      "mask: torch.Size([1, 500])\n",
      "seq_one_hot: torch.Size([1, 500, 20])\n",
      "seq: GSTGVTLFVALYDYEARTEDDLSFHKGEKFQILNSSEGDWWEARSLTTGETGYIPSNYVAPVDSIQAEE\n",
      "ang_backbone: torch.Size([1, 500, 3])\n",
      "ang: torch.Size([1, 500, 12])\n",
      "proT5_emb: torch.Size([1, 500, 1024])\n",
      "proT5_mut: torch.Size([1, 500, 1024])\n",
      "seq_mut: 1\n",
      "crd_decoy: torch.Size([1, 41, 4, 3])\n",
      "mask_crd_decoy: torch.Size([1, 41])\n",
      "seq_crd_decoy: 1\n"
     ]
    }
   ],
   "source": [
    "# Add zero padding to the sequence\n",
    "def pad_data(data,max_len=500):\n",
    "    id, crd_backbone, mask, seq_one_hot, seq,ang_backbone, ang,\\\n",
    "                proT5_emb, proT5_mut,seq_mut, crd_decoy, mask_crd_decoy, seq_crd_decoy = data\n",
    "    pad_len = max_len - crd_backbone.shape[1]\n",
    "    crd_backbone = F.pad(crd_backbone,(0,0,0,0,0,pad_len))\n",
    "    seq_one_hot = F.pad(seq_one_hot,(0,0,0,pad_len))\n",
    "    proT5_emb = F.pad(proT5_emb,(0,0,0,pad_len))\n",
    "    proT5_mut = F.pad(proT5_mut,(0,0,0,pad_len))\n",
    "    mask = F.pad(mask,(0,pad_len))\n",
    "    ang = F.pad(ang,(0,0,0,pad_len))\n",
    "    ang_backbone = F.pad(ang_backbone,(0,0,0,pad_len))\n",
    "    return (id, crd_backbone, mask, seq_one_hot, seq,ang_backbone, ang,\\\n",
    "                proT5_emb, proT5_mut,seq_mut, crd_decoy, mask_crd_decoy, seq_crd_decoy)\n",
    "                \n",
    "data = pad_data(data)\n",
    "print_shapes(data)"
   ]
  },
  {
   "cell_type": "code",
   "execution_count": 59,
   "metadata": {},
   "outputs": [],
   "source": [
    "# evaluate model \n",
    "model.eval()\n",
    "# model.train()\n",
    "device = torch.device(\"cuda:0\" if torch.cuda.is_available() else \"cpu\")"
   ]
  },
  {
   "cell_type": "code",
   "execution_count": 75,
   "metadata": {},
   "outputs": [],
   "source": [
    "id, crd_backbone, mask, seq_one_hot, seq,ang_backbone, ang,\\\n",
    "                proT5_emb, proT5_mut,seq_mut, crd_decoy, mask_crd_decoy, seq_crd_decoy = data\n",
    "            \n",
    "# wild type and mutant type\n",
    "Xjf = crd_backbone.to(device) # wilde type structure folded\n",
    "Xju = torch.clone(Xjf).to(device) # wilde type structure unfolded\n",
    "Xcd = crd_decoy.to(device) # decoy structure\n",
    "\n",
    "# change the decoy len to match the native len\n",
    "if Xcd.shape[1] > Xjf.shape[1]:\n",
    "    Xcd = Xcd[:,:Xjf.shape[1],:,:]\n",
    "    mask_crd_decoy = mask_crd_decoy[:,:Xjf.shape[1]]\n",
    "elif Xcd.shape[1] < Xjf.shape[1]:\n",
    "    # add zeros to the end of the decoy\n",
    "    Xcd = torch.cat((Xcd, torch.zeros(Xjf.shape[0],Xjf.shape[1] - Xcd.shape[1], *Xcd.shape[2:]).to(device)), dim=1)\n",
    "    mask_crd_decoy = torch.cat((mask_crd_decoy, torch.zeros(mask_crd_decoy.shape[0],mask.shape[1] - mask_crd_decoy.shape[1])), dim=1)\n",
    "    \n",
    "# native structure and decoy structure\n",
    "Xd = torch.clone(Xjf).to(device)\n",
    "Xdu = torch.clone(Xjf).to(device)\n",
    "seq_one_hot = seq_one_hot.to(device) # [batch_size,20,seq_len]\n",
    "\n",
    "# create decoy sequence\n",
    "seq_decoy,mask_decoy, proT5_emb_decoy = mix_A_acid(seq_one_hot = seq_one_hot, emb=proT5_emb, mask = mask,val_type='train',device=device)\n",
    "\n",
    "#emb = torch.cat((esm_embed,seq),dim=2)\n",
    "emb = seq_one_hot.to(device)\n",
    "emb_decoy = seq_decoy.to(device)\n",
    "\n",
    "# move proT5_emb to device\n",
    "proT5_emb_decoy, proT5_emb = proT5_emb_decoy.to(device), proT5_emb.to(device)\n",
    "\n",
    "# zero the parameter gradients\n",
    "optimizer.zero_grad()\n",
    "# squeeze the data\n",
    "Xd, Xjf, Xju, Xcd, Xdu = Xd.squeeze(), Xjf.squeeze(), Xju.squeeze(), Xcd.squeeze(), Xdu.squeeze()\n",
    "emb_decoy, emb = emb_decoy.squeeze(), emb.squeeze()\n",
    "mask_decoy, mask, mask_crd_decoy= mask_decoy.squeeze(), mask.squeeze(), mask_crd_decoy.squeeze()\n",
    "proT5_emb_decoy, proT5_emb = proT5_emb_decoy.squeeze(), proT5_emb.squeeze()\n",
    "\n",
    "# get folded graph  \n",
    "Xjf = get_graph(Xjf, emb, proT5_emb, mask)\n",
    "# get unfolded graph\n",
    "Xju = get_unfolded_graph(Xju, emb, proT5_emb, mask)\n",
    "# get decoy graph\n",
    "Xd, Xcd, Xdu = get_graph(Xd, emb_decoy, proT5_emb_decoy, mask_decoy), get_graph(Xcd, emb, proT5_emb, mask_crd_decoy), get_unfolded_graph(Xd, emb_decoy, proT5_emb_decoy, mask_decoy)\n",
    "# create a batch of Xjf,Xkf,Xju,Xku,x_decoy\n",
    "Xjf,Xju,Xd,Xcd,Xdu= Xjf.unsqueeze(0),Xju.unsqueeze(0),Xd.unsqueeze(0), Xcd.unsqueeze(0), Xdu.unsqueeze(0)  \n",
    "X = torch.cat((Xjf,Xju,Xd,Xcd,Xdu),dim=0)\n",
    "\n",
    "with torch.no_grad():\n",
    "    # half precision validation\n",
    "    with torch.amp.autocast(device_type=\"cuda\", dtype=CFG.precision):\n",
    "        # calculate the energy for the folded unfolded and decoy structure\n",
    "        E = model(X)\n",
    "        Ejf, Eju, Exd, Ecd, Exdu = E[0], E[1], E[2], E[3], E[4]"
   ]
  },
  {
   "cell_type": "code",
   "execution_count": 76,
   "metadata": {},
   "outputs": [
    {
     "name": "stdout",
     "output_type": "stream",
     "text": [
      "-72.092529296875 3.5161330699920654 32.22923278808594 16.937253952026367\n"
     ]
    }
   ],
   "source": [
    "print(Ejf.item(), Eju.item(), Exd.item(), Ecd.item())"
   ]
  },
  {
   "cell_type": "code",
   "execution_count": 15,
   "metadata": {},
   "outputs": [
    {
     "name": "stdout",
     "output_type": "stream",
     "text": [
      "Energy difference \n",
      "Wild type: 5.723419666290283\n",
      "Mutant: 5.601985931396484\n",
      "Decoy: 21.944183349609375\n",
      "Decoy coordinates: 15.587738037109375\n"
     ]
    }
   ],
   "source": [
    "# calculate the energy difference\n",
    "dE_wildtype = Eju - Ejf\n",
    "dE_mutant = Eku - Ekf\n",
    "dE_decoy = Exd - Ejf\n",
    "dE_coordsDecoy = Ecd - Ejf\n",
    "# print as a table\n",
    "print(\"Energy difference \")\n",
    "print(f\"Wild type: {dE_wildtype.item()}\")\n",
    "print(f\"Mutant: {dE_mutant.item()}\")\n",
    "print(f\"Decoy: {dE_decoy.item()}\")\n",
    "print(f\"Decoy coordinates: {dE_coordsDecoy.item()}\")"
   ]
  },
  {
   "cell_type": "code",
   "execution_count": 18,
   "metadata": {},
   "outputs": [],
   "source": [
    "E = model(X,f_type = 'A_inference')\n",
    "# E = E.squeeze()\n",
    "Ejf, Ekf, Eju, Eku, Exd = E[0], E[1], E[2], E[3], E[4]"
   ]
  },
  {
   "cell_type": "code",
   "execution_count": 19,
   "metadata": {},
   "outputs": [
    {
     "name": "stdout",
     "output_type": "stream",
     "text": [
      "4.43651008605957 4.436499118804932 12.033395767211914 12.258563995361328 26.85599136352539\n",
      "Energy difference \n",
      "Wild type: 7.596885681152344\n",
      "Mutant: 7.8220648765563965\n",
      "Decoy: 22.41948127746582\n"
     ]
    }
   ],
   "source": [
    "sum_Ejf, sum_Ekf, sum_Eju, sum_Eku, sum_Exd = (Ejf).sum(), (Ekf).sum(), (Eju).sum(), (Eku).sum(), (Exd).sum()\n",
    "print(sum_Ejf.item(), sum_Ekf.item(), sum_Eju.item(), sum_Eku.item(), sum_Exd.item())\n",
    "# delta E\n",
    "dE_wildtype = sum_Eju - sum_Ejf\n",
    "dE_mutant = sum_Eku - sum_Ekf\n",
    "dE_decoy = sum_Exd - sum_Ejf\n",
    "# print as a table\n",
    "print(\"Energy difference \")\n",
    "print(f\"Wild type: {dE_wildtype.item()}\")\n",
    "print(f\"Mutant: {dE_mutant.item()}\")\n",
    "print(f\"Decoy: {dE_decoy.item()}\")"
   ]
  },
  {
   "cell_type": "code",
   "execution_count": 20,
   "metadata": {},
   "outputs": [
    {
     "name": "stdout",
     "output_type": "stream",
     "text": [
      "(69, 5)\n"
     ]
    },
    {
     "data": {
      "image/png": "[encoded data removed]",
      "text/plain": [
       "<Figure size 1000x600 with 1 Axes>"
      ]
     },
     "metadata": {},
     "output_type": "display_data"
    },
    {
     "name": "stdout",
     "output_type": "stream",
     "text": [
      "tensor([0, 0, 0, 0, 1, 1, 1, 1, 1, 1, 1, 1, 1, 1, 1, 1, 1, 1, 1, 1, 1, 1, 1, 1,\n",
      "        1, 1, 1, 1, 1, 1, 1, 1, 1, 1, 1, 1, 1, 1, 1, 1, 1, 1, 1, 1, 1, 1, 1, 1,\n",
      "        1, 1, 1, 1, 1, 1, 1, 1, 1, 1, 1, 1, 1, 1, 0, 0, 0, 0, 0, 0, 0])\n"
     ]
    }
   ],
   "source": [
    "# Categories (x-axis labels)\n",
    "nodes = Ejf.shape[0]\n",
    "categories = np.arange(1, nodes+1)  # Assuming 69 data points\n",
    "\n",
    "# Combine the data into a single array\n",
    "data = np.hstack((Ejf.detach().cpu().numpy(), Ekf.detach().cpu().numpy(), Eju.detach().cpu().numpy(), Eku.detach().cpu().numpy(), Exd.detach().cpu().numpy()))\n",
    "print(data.shape)\n",
    "\n",
    "# Create the figure\n",
    "fig = plt.figure(figsize=(10, 6))\n",
    "# Plot bars for each example with separation\n",
    "bar_width = 0.2\n",
    "plt.bar(categories-bar_width, data[:, 0], color='red', label='Ejf')\n",
    "plt.bar(categories, data[:, 1], color='blue', label='Ekf')\n",
    "# plt.bar(categories+bar_width, data[:, 2], color='green', label='Eju')\n",
    "# plt.bar(categories, data[:, 3], color='orange', label='Eku')\n",
    "# plt.bar(categories, data[:, 4], color='purple', label='Exd')\n",
    "\n",
    "\n",
    "    \n",
    "\n",
    "# Set labels, title, and legend\n",
    "plt.xlabel('Amino acid index')\n",
    "plt.ylabel('Energy')\n",
    "# plt.set_title('Amino acid energy contribution')\n",
    "# Specify legend location\n",
    "plt.legend(loc='upper right')\n",
    "# Display the plot\n",
    "# plt.tight_layout()\n",
    "plt.show()\n",
    "print(mask)"
   ]
  },
  {
   "cell_type": "code",
   "execution_count": 21,
   "metadata": {},
   "outputs": [
    {
     "data": {
      "text/plain": [
       "tensor([-1.8296e-10, -7.8275e-15, -2.7039e-13, -4.4312e-08, -3.0443e-07,\n",
       "        -2.2754e-06, -1.7592e-06, -2.6576e-03, -4.0284e-03, -6.1769e-05,\n",
       "        -1.9732e-07, -9.6246e-08, -1.1597e-07], device='cuda:0',\n",
       "       grad_fn=<IndexBackward0>)"
      ]
     },
     "execution_count": 21,
     "metadata": {},
     "output_type": "execute_result"
    }
   ],
   "source": [
    "a = Eku**2-Ekf**2\n",
    "a[a<0]"
   ]
  },
  {
   "cell_type": "code",
   "execution_count": 22,
   "metadata": {},
   "outputs": [],
   "source": [
    "d_params = data_params(num_workers =CFG.num_workers, batch_size=CFG.batch_size,cuda=CFG.cuda,constraint=CFG.constraint, debug=CFG.debug,dataset='scn')\n",
    "train_loader, valid_loader,test_loader = fetch_dataloader(data_dir=CFG.data_path, params=d_params)"
   ]
  },
  {
   "cell_type": "code",
   "execution_count": 31,
   "metadata": {},
   "outputs": [],
   "source": [
    "# define validation function\n",
    "def validation(model, dataloader, device,epoch,N,optimizer,val_type = 'robust'):\n",
    "    \"\"\"\n",
    "    Validation function for the model.\n",
    "    \"\"\"\n",
    "    valid_loss = 0\n",
    "    valid_lossd = 0\n",
    "    valid_lossg = 0\n",
    "    valid_lossc = 0\n",
    "    Exd_list = []\n",
    "    Exn_list = []\n",
    "    seq_len = []\n",
    "    lossg_list = []\n",
    "    lossd_list = []\n",
    "    ids_list = []\n",
    "    n_skips = 0\n",
    "    model.eval() # cant use eval because of the loss function calculation\n",
    "    count_equal = 0\n",
    "    with tqdm(dataloader, unit=\"batch\") as tepoch:\n",
    "       # set progress bar description\n",
    "        tepoch.set_description(f\"Validation: Epoch {epoch}\")\n",
    "        for index, data in (enumerate(tepoch)):\n",
    "            # Clean the GPU cache\n",
    "            if(device.type == \"cuda\" or device.type == \"mps\"):    \n",
    "                torch.cuda.empty_cache()\n",
    "            gc.collect()\n",
    "            # zero the parameter gradients\n",
    "            optimizer.zero_grad()\n",
    "            id, crd_backbone, mask, seq_one_hot, seq,ang_backbone, ang,\\\n",
    "                proT5_emb, proT5_mut,seq_mut, crd_decoy, mask_crd_decoy, seq_crd_decoy = data\n",
    "            \n",
    "            # wild type and mutant type\n",
    "            Xjf = crd_backbone.to(device) # wilde type structure folded\n",
    "            Xkf = torch.clone(Xjf).to(device) # mutant structure folded\n",
    "            Xju = torch.clone(Xjf).to(device) # wilde type structure unfolded\n",
    "            Xku = torch.clone(Xjf).to(device) # mutant structure unfolded\n",
    "            Xcd = crd_decoy.to(device) # decoy structure\n",
    "\n",
    "            # change the decoy len to match the native len\n",
    "            if Xcd.shape[1] > Xjf.shape[1]:\n",
    "                Xcd = Xcd[:,:Xjf.shape[1],:,:]\n",
    "                mask_crd_decoy = mask_crd_decoy[:,:Xjf.shape[1]]\n",
    "            elif Xcd.shape[1] < Xjf.shape[1]:\n",
    "                # add zeros to the end of the decoy\n",
    "                Xcd = torch.cat((Xcd, torch.zeros(Xjf.shape[0],Xjf.shape[1] - Xcd.shape[1], *Xcd.shape[2:]).to(device)), dim=1)\n",
    "                mask_crd_decoy = torch.cat((mask_crd_decoy, torch.zeros(mask_crd_decoy.shape[0],mask.shape[1] - mask_crd_decoy.shape[1])), dim=1)\n",
    "              \n",
    "            # native structure and decoy structure\n",
    "            Xd = torch.clone(Xjf).to(device)\n",
    "            Xdu = torch.clone(Xjf).to(device)\n",
    "            seq_one_hot = seq_one_hot.to(device) # [batch_size,20,seq_len]\n",
    "            \n",
    "            # create decoy sequence\n",
    "            seq_decoy,mask_decoy, proT5_emb_decoy = mix_A_acid(seq_one_hot = seq_one_hot, emb=proT5_emb, mask = mask,val_type='train',device=device)\n",
    "            \n",
    "            if seq_decoy.shape[1] >CFG.seq_len : # if the sequence is too long, skip it(GPU limitation)\n",
    "                n_skips += 1\n",
    "                continue\n",
    "            #emb = torch.cat((esm_embed,seq),dim=2)\n",
    "            emb = seq_one_hot.to(device)\n",
    "            emb_decoy = seq_decoy.to(device)\n",
    "            emb_mut = get_one_hot(seq_mut[0]).to(device)\n",
    "            \n",
    "            # move proT5_emb to device\n",
    "            proT5_mut, proT5_emb_decoy, proT5_emb = proT5_mut.to(device), proT5_emb_decoy.to(device), proT5_emb.to(device)\n",
    "           \n",
    "            # zero the parameter gradients\n",
    "            optimizer.zero_grad()\n",
    "            # squeeze the data\n",
    "            Xd, Xjf, Xkf, Xju, Xku, Xcd, Xdu = Xd.squeeze(), Xjf.squeeze(), Xkf.squeeze(), Xju.squeeze(), Xku.squeeze(), Xcd.squeeze(), Xdu.squeeze()\n",
    "            emb_decoy, emb, emb_mut = emb_decoy.squeeze(), emb.squeeze(), emb_mut.squeeze()\n",
    "            mask_decoy, mask, mask_crd_decoy= mask_decoy.squeeze(), mask.squeeze(), mask_crd_decoy.squeeze()\n",
    "            proT5_emb_decoy, proT5_emb, proT5_mut = proT5_emb_decoy.squeeze(), proT5_emb.squeeze(), proT5_mut.squeeze()\n",
    "            \n",
    "            # get folded graph  \n",
    "            Xjf,Xkf = get_graph(Xjf, emb, proT5_emb, mask), get_graph(Xkf, emb_mut, proT5_mut, mask)\n",
    "            # get unfolded graph\n",
    "            Xju,Xku = get_unfolded_graph(Xju, emb, proT5_emb, mask), get_unfolded_graph(Xku, emb_mut, proT5_mut, mask)\n",
    "            # get decoy graph\n",
    "            Xd, Xcd, Xdu = get_graph(Xd, emb_decoy, proT5_emb_decoy, mask_decoy), get_graph(Xcd, emb, proT5_emb, mask_crd_decoy), get_unfolded_graph(Xd, emb_decoy, proT5_emb_decoy, mask_decoy)\n",
    "            # create a batch of Xjf,Xkf,Xju,Xku,x_decoy\n",
    "            Xjf,Xkf,Xju,Xku,Xd,Xcd,Xdu= Xjf.unsqueeze(0),Xkf.unsqueeze(0),Xju.unsqueeze(0),Xku.unsqueeze(0),Xd.unsqueeze(0), Xcd.unsqueeze(0), Xdu.unsqueeze(0)  \n",
    "            X = torch.cat((Xjf,Xkf,Xju,Xku,Xd,Xcd,Xdu),dim=0)\n",
    "            \n",
    "             # half precision validation\n",
    "            with torch.amp.autocast(device_type=\"cuda\", dtype=CFG.precision):\n",
    "                # calculate the energy for the folded unfolded and decoy structure\n",
    "                E = model(X)\n",
    "                Ejf, Ekf, Eju, Eku, Exd, Ecd, Exdu = E[0], E[1], E[2], E[3], E[4], E[5], E[6]\n",
    "                # calculate the loss   \n",
    "                loss ,lossd, lossg,lossc = criterion(Ejf, Ekf, Eju, Eku, Exd, Xjf, Ecd, Exdu, with_grad = False)\n",
    "                \n",
    "            # Add gradient penalty\n",
    "            Ejf_grad = torch.tensor(0.0).to(device)\n",
    "            if CFG.gradient_penalty:\n",
    "                # zero the parameter gradients\n",
    "                optimizer.zero_grad()\n",
    "                torch.cuda.empty_cache()\n",
    "                gc.collect( )\n",
    "                # half precision training\n",
    "                with torch.amp.autocast(device_type=\"cuda\", dtype=CFG.precision):\n",
    "                    # calculate the energy for the wild type\n",
    "                    Xjf.requires_grad = True\n",
    "                    Ejf_grad = model(Xjf)[0]\n",
    "                    lossg = gradient_penalty(Xjf, Ejf_grad)\n",
    "                    \n",
    "                loss += lossg # add the gradient penalty to the loss\n",
    "            \n",
    "            valid_loss += loss.item() \n",
    "            valid_lossd += lossd.item()\n",
    "            valid_lossg += lossg.item()\n",
    "            valid_lossc += lossc.item()\n",
    "            # delete all the variables\n",
    "            del Xjf,Xkf,Xju,Xku,Xd,emb_decoy, emb, emb_mut, mask_decoy, mask, proT5_emb_decoy, proT5_emb, proT5_mut, X, E, Ejf, Ekf, Eju, Eku, Exd\n",
    "            torch.cuda.empty_cache()\n",
    "            gc.collect()\n",
    "            # update the progress bar\n",
    "            if index % 1000 == 999:\n",
    "                print(f\"Validation loss: {round(valid_loss/(index + 1),2)}, index: {index}, n_skips: {n_skips}\")\n",
    "    return valid_loss/len(dataloader),valid_lossd/len(dataloader),valid_lossg/len(dataloader),valid_lossc/len(dataloader)\n",
    "\n",
    "def gradient_penalty(X_native, E_native):\n",
    "    \"\"\"Implementing the lossg equation:\n",
    "        The gradient of a wild type structure should be close to zero.\n",
    "        Therefore we will add it to the loss as lossg\"\"\"\n",
    "    partial_dx_native = torch.autograd.grad(outputs=E_native, inputs=X_native, grad_outputs=torch.ones_like(E_native),retain_graph = True ,create_graph=True)[0]\n",
    "    part_dx_native_norm = 0.5*torch.norm(partial_dx_native,p=2)**2\n",
    "    lossg = torch.log(part_dx_native_norm+1)\n",
    "    return lossg\n",
    "\n",
    "def criterion(Ejf, Ekf, Eju, Eku, Exd, X_native, Ecd, Exdu, with_grad = True ):\n",
    "    \"\"\"\n",
    "    The loss function for the model corresponds to 3 main losses:\n",
    "    1. lossg: the partial derivative of the energy with respect to the native structure\n",
    "    2. lossd: the energy of the native structure divided by the decoy energy\n",
    "    3. lossc: the energy softplus function for the native and mutant structure(unfolded and folded)\n",
    "    Args:\n",
    "        Ejf (tensor): The energy of the folded native structure\n",
    "        Ekf (tensor): The energy of the folded mutant structure\n",
    "        Eju (tensor): The energy of the unfolded native structure\n",
    "        Eku (tensor): The energy of the unfolded mutant structure\n",
    "        Exd (tensor): The energy of the decoy sequence\n",
    "        Ecd (tensor): The energy of the decoy structure\n",
    "        Exdu (tensor): The energy of the decoy structure unfolded\n",
    "    output:\n",
    "        loss (tensor): The loss of the model\n",
    "        lossd (tensor): The loss of the model due to the energy of the native structure divided by the decoy energy\n",
    "        lossg (tensor): The loss of the model due to the partial derivative of the energy with respect to the native structure\n",
    "        lossc (tensor): The loss of the model due to the energy softplus function for the native and mutant structure(unfolded and folded)\n",
    "    \"\"\"\n",
    "    lossg = gradient_penalty(X_native, Ejf) if with_grad else torch.tensor(0.0).to(Ejf.device)\n",
    "    lossd = lossd_fucntion(Ejf, Exd, Ecd, Exdu, Eju)\n",
    "    lossc = energy_softplus(Ejf, Ekf, Eju, Eku)\n",
    "    \n",
    "    return lossd+lossg+lossc , lossd, lossg, lossc\n",
    "  \n",
    "def lossd_fucntion(Ejf, Exd, Ecd, Exdu, Eju):\n",
    "    \"\"\"Decoy loss:\n",
    "    - the energy of a decoy sequece is greater than the energy of the wild-type structure (Ejf<Exd)\n",
    "    - the energy of a decoy structure is greater than the energy of the wild-type structure (Ejf<Ecd)\n",
    "    - the energy of a folded decoy is greater than the energy of an unfolded decoy (Exdu<Exd)\n",
    "    - the energy of a decoy structure is greater than the energy of the unfolded native structure (Eju<Ecd)\n",
    "    \"\"\"\n",
    "    loss_decoy = lambda x,y: torch.log((x+1) / (y+1) +1)\n",
    "    \n",
    "    return loss_decoy(Ejf, Exd)+loss_decoy(Ejf, Ecd)+loss_decoy(Exdu, Exd)+loss_decoy(Eju, Ecd)\n",
    "\n",
    "# def loss_decoy(E_native,E_decoy,decoy_threshold = CFG.decoy_threshold):\n",
    "#     \"\"\"Decoy loss, the energy of the native structure divided by the decoy energy\"\"\"\n",
    "#     # if E_native * decoy_threshold < E_decoy:\n",
    "#     #     return torch.tensor(0.0).to(E_native.device)\n",
    "#     return torch.log((E_native+1) / (E_decoy+1) +1)\n",
    "\n",
    "def energy_softplus(Ejf, Ekf, Eju, Eku, beta = 1):\n",
    "    \"\"\"Energy softplus,\n",
    "    As we know the energy diffrence between an unfolded protein and folded protein is positive.\n",
    "    Therefore we will add it to the loss as lossc\"\"\"\n",
    "    \n",
    "    folded_threshold = 2 # the ratio between the energy of the folded and unfolded protein should be greater than 2\n",
    "    softplus = lambda x: torch.log(torch.exp(beta*x)+1)/beta\n",
    "    if (Ekf * folded_threshold < Eku and Eku > Ekf):\n",
    "        lossc1 = softplus(-Ekf) \n",
    "    else:\n",
    "        lossc1 = softplus(Ekf-Eku)\n",
    "        \n",
    "    if (Ejf * folded_threshold < Eju and Eju > Ejf):\n",
    "        lossc2 = softplus(-Ejf) \n",
    "    else:\n",
    "        lossc2 = softplus(Ejf-Eju)\n",
    "    # lossd2 = torch.where(lossd2 < 0.05, torch.tensor(0.0).to(lossd2.device), torch.where(lossd2 > 10.0, lossd2/2.0, lossd2))\n",
    "    return lossc1+lossc2"
   ]
  },
  {
   "cell_type": "code",
   "execution_count": 32,
   "metadata": {},
   "outputs": [
    {
     "name": "stderr",
     "output_type": "stream",
     "text": [
      "Validation: Epoch 1: 100%|██████████| 160/160 [01:15<00:00,  2.12batch/s]\n"
     ]
    }
   ],
   "source": [
    "val_loss, val_lossd, val_lossg, val_lossc = validation(model, valid_loader,CFG.device,epoch, CFG.N, optimizer )"
   ]
  },
  {
   "cell_type": "code",
   "execution_count": 28,
   "metadata": {},
   "outputs": [
    {
     "name": "stdout",
     "output_type": "stream",
     "text": [
      "7.523640039563179 0.30641963880043477 7.146786026656628 0.07043438461837435\n"
     ]
    }
   ],
   "source": [
    "print(val_loss, val_lossd, val_lossg, val_lossc)"
   ]
  },
  {
   "cell_type": "code",
   "execution_count": 26,
   "metadata": {},
   "outputs": [
    {
     "name": "stdout",
     "output_type": "stream",
     "text": [
      "memory allocated: 0.31, memory cached: 0.359\n"
     ]
    },
    {
     "name": "stderr",
     "output_type": "stream",
     "text": [
      "/home/shaharax/.conda/envs/esm2_env/lib/python3.7/site-packages/torch/cuda/memory.py:397: FutureWarning: torch.cuda.memory_cached has been renamed to torch.cuda.memory_reserved\n",
      "  FutureWarning)\n"
     ]
    }
   ],
   "source": [
    "torch.cuda.empty_cache()\n",
    "gc.collect()\n",
    "memory_allcation = torch.cuda.memory_allocated(device=device)\n",
    "memory_cached = torch.cuda.memory_cached(device=device)\n",
    "print(f\"memory allocated: {round(memory_allcation/1e9,3)}, memory cached: {round(memory_cached/1e9,3)}\")"
   ]
  },
  {
   "cell_type": "code",
   "execution_count": 27,
   "metadata": {},
   "outputs": [
    {
     "name": "stdout",
     "output_type": "stream",
     "text": [
      "Wed Dec 27 13:59:38 2023       \n",
      "+---------------------------------------------------------------------------------------+\n",
      "| NVIDIA-SMI 530.30.02              Driver Version: 530.30.02    CUDA Version: 12.1     |\n",
      "|-----------------------------------------+----------------------+----------------------+\n",
      "| GPU  Name                  Persistence-M| Bus-Id        Disp.A | Volatile Uncorr. ECC |\n",
      "| Fan  Temp  Perf            Pwr:Usage/Cap|         Memory-Usage | GPU-Util  Compute M. |\n",
      "|                                         |                      |               MIG M. |\n",
      "|=========================================+======================+======================|\n",
      "|   0  NVIDIA RTX 6000 Ada Gener...    On | 00000000:81:00.0 Off |                  Off |\n",
      "| 30%   35C    P2               77W / 300W|   1783MiB / 49140MiB |      0%      Default |\n",
      "|                                         |                      |                  N/A |\n",
      "+-----------------------------------------+----------------------+----------------------+\n",
      "                                                                                         \n",
      "+---------------------------------------------------------------------------------------+\n",
      "| Processes:                                                                            |\n",
      "|  GPU   GI   CI        PID   Type   Process name                            GPU Memory |\n",
      "|        ID   ID                                                             Usage      |\n",
      "|=======================================================================================|\n",
      "|    0   N/A  N/A     38832      C   ...rax/.conda/envs/esm2_env/bin/python     1780MiB |\n",
      "+---------------------------------------------------------------------------------------+\n"
     ]
    }
   ],
   "source": [
    "!nvidia-smi"
   ]
  },
  {
   "cell_type": "markdown",
   "metadata": {},
   "source": []
  },
  {
   "cell_type": "markdown",
   "metadata": {},
   "source": []
  },
  {
   "cell_type": "code",
   "execution_count": null,
   "metadata": {},
   "outputs": [],
   "source": []
  },
  {
   "cell_type": "code",
   "execution_count": null,
   "metadata": {},
   "outputs": [],
   "source": []
  }
 ],
 "metadata": {
  "kernelspec": {
   "display_name": "esm2_env_py38",
   "language": "python",
   "name": "python3"
  },
  "language_info": {
   "codemirror_mode": {
    "name": "ipython",
    "version": 3
   },
   "file_extension": ".py",
   "mimetype": "text/x-python",
   "name": "python",
   "nbconvert_exporter": "python",
   "pygments_lexer": "ipython3",
   "version": "3.8.20"
  },
  "orig_nbformat": 4
 },
 "nbformat": 4,
 "nbformat_minor": 2
}
