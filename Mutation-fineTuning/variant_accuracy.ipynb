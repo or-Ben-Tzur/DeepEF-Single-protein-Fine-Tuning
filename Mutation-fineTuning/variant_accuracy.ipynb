{
 "cells": [
  {
   "cell_type": "markdown",
   "metadata": {},
   "source": [
    "## Measuring model ddG accuracy on protein variants\n",
    "The goal of this notebook is to experiment with model ddG prediction capabilities, and exploring the possibility of predicting ddG of variants that were not supported previously."
   ]
  },
  {
   "cell_type": "code",
   "execution_count": 18,
   "metadata": {},
   "outputs": [],
   "source": [
    "#imports\n",
    "import sys\n",
    "sys.path.append('..')    # add parent directory to path\n",
    "import numpy as np\n",
    "import matplotlib.pyplot as plt\n",
    "from model.hydro_net import PEM\n",
    "from model.model_cfg import CFG\n",
    "from Utils.train_utils import *\n",
    "from Utils.pdb_parser import get_pdb_data\n",
    "import torch\n",
    "import pandas as pd\n",
    "import os\n",
    "import glob"
   ]
  },
  {
   "cell_type": "code",
   "execution_count": 26,
   "metadata": {},
   "outputs": [
    {
     "name": "stdout",
     "output_type": "stream",
     "text": [
      "Number of parameters: 393517\n"
     ]
    },
    {
     "data": {
      "text/plain": [
       "<All keys matched successfully>"
      ]
     },
     "execution_count": 26,
     "metadata": {},
     "output_type": "execute_result"
    }
   ],
   "source": [
    "#load model\n",
    "# Import the model\n",
    "model = PEM(layers=CFG.num_layers,gaussian_coef=CFG.gaussian_coef).to(CFG.device)\n",
    "# Get total number of parameters\n",
    "total_params = sum(p.numel() for p in model.parameters())\n",
    "print(f\"Number of parameters: {total_params}\")\n",
    "# Upload model weights\n",
    "CFG.model_path = '../data/Trained_models/'\n",
    "epoch = 25\n",
    "model_dict = torch.load(CFG.model_path+f\"{epoch}_final_model.pt\",map_location=CFG.device,weights_only=False)\n",
    "model.load_state_dict(model_dict['model_state_dict'])"
   ]
  },
  {
   "cell_type": "markdown",
   "metadata": {},
   "source": [
    "### Experimenting with a single protein"
   ]
  },
  {
   "cell_type": "code",
   "execution_count": 19,
   "metadata": {},
   "outputs": [],
   "source": [
    "#Configuration\n",
    "remove_indels = True\n",
    "one_mute = True\n",
    "# Constants\n",
    "COORDS = 'coords_tensor.pt'\n",
    "DELTA_G = 'deltaG.pt'\n",
    "MASKS = 'mask_tensor.pt'\n",
    "ONE_HOT = 'one_hot_encodings.pt'\n",
    "PROTT5_EMBEDDINGS = 'prott5_embeddings'\n",
    "VAL_RATIO = 0.2\n",
    "RANDOM_SEED = 42\n",
    "NANO_TO_ANGSTROM = 0.1\n",
    "TM_PATH = './data/Processed_K50_dG_datasets/TM_proteins.csv'\n",
    "DEBUG = False"
   ]
  },
  {
   "cell_type": "code",
   "execution_count": 20,
   "metadata": {},
   "outputs": [],
   "source": [
    "# Function from AllProteinValidationDataset\n",
    "def load_embedding_tensor(embeddings_dir):\n",
    "    embeddings = []\n",
    "    all_embedding_files = sorted(glob.glob(os.path.join(embeddings_dir, 'prott5_embedding_*.pt')),\n",
    "                                 key=lambda x: int(os.path.splitext(x)[0].split('_')[-1]))\n",
    "\n",
    "    for filename in all_embedding_files:\n",
    "        if filename.endswith('.pt'):\n",
    "            embedding_tensor = torch.load(filename, map_location=torch.device('cpu'))  # Ensure loading on CPU\n",
    "            embeddings.append(embedding_tensor)\n",
    "\n",
    "    return torch.vstack(embeddings)"
   ]
  },
  {
   "cell_type": "code",
   "execution_count": 21,
   "metadata": {},
   "outputs": [
    {
     "name": "stderr",
     "output_type": "stream",
     "text": [
      "C:\\Users\\darea\\AppData\\Local\\Temp\\ipykernel_11944\\1661907473.py:11: FutureWarning: You are using `torch.load` with `weights_only=False` (the current default value), which uses the default pickle module implicitly. It is possible to construct malicious pickle data which will execute arbitrary code during unpickling (See https://github.com/pytorch/pytorch/blob/main/SECURITY.md#untrusted-models for more details). In a future release, the default value for `weights_only` will be flipped to `True`. This limits the functions that could be executed during unpickling. Arbitrary objects will no longer be allowed to be loaded via this mode unless they are explicitly allowlisted by the user via `torch.serialization.add_safe_globals`. We recommend you start setting `weights_only=True` for any use case where you don't have full control of the loaded file. Please open an issue on GitHub for any issues related to this experimental feature.\n",
      "  coords_tensor = torch.load(os.path.join(protein_path, COORDS))\n",
      "C:\\Users\\darea\\AppData\\Local\\Temp\\ipykernel_11944\\1661907473.py:12: FutureWarning: You are using `torch.load` with `weights_only=False` (the current default value), which uses the default pickle module implicitly. It is possible to construct malicious pickle data which will execute arbitrary code during unpickling (See https://github.com/pytorch/pytorch/blob/main/SECURITY.md#untrusted-models for more details). In a future release, the default value for `weights_only` will be flipped to `True`. This limits the functions that could be executed during unpickling. Arbitrary objects will no longer be allowed to be loaded via this mode unless they are explicitly allowlisted by the user via `torch.serialization.add_safe_globals`. We recommend you start setting `weights_only=True` for any use case where you don't have full control of the loaded file. Please open an issue on GitHub for any issues related to this experimental feature.\n",
      "  delta_g_tensor = torch.load(os.path.join(protein_path, DELTA_G))\n",
      "C:\\Users\\darea\\AppData\\Local\\Temp\\ipykernel_11944\\1661907473.py:13: FutureWarning: You are using `torch.load` with `weights_only=False` (the current default value), which uses the default pickle module implicitly. It is possible to construct malicious pickle data which will execute arbitrary code during unpickling (See https://github.com/pytorch/pytorch/blob/main/SECURITY.md#untrusted-models for more details). In a future release, the default value for `weights_only` will be flipped to `True`. This limits the functions that could be executed during unpickling. Arbitrary objects will no longer be allowed to be loaded via this mode unless they are explicitly allowlisted by the user via `torch.serialization.add_safe_globals`. We recommend you start setting `weights_only=True` for any use case where you don't have full control of the loaded file. Please open an issue on GitHub for any issues related to this experimental feature.\n",
      "  mask_tensor = torch.load(os.path.join(protein_path, MASKS))\n",
      "C:\\Users\\darea\\AppData\\Local\\Temp\\ipykernel_11944\\1661907473.py:14: FutureWarning: You are using `torch.load` with `weights_only=False` (the current default value), which uses the default pickle module implicitly. It is possible to construct malicious pickle data which will execute arbitrary code during unpickling (See https://github.com/pytorch/pytorch/blob/main/SECURITY.md#untrusted-models for more details). In a future release, the default value for `weights_only` will be flipped to `True`. This limits the functions that could be executed during unpickling. Arbitrary objects will no longer be allowed to be loaded via this mode unless they are explicitly allowlisted by the user via `torch.serialization.add_safe_globals`. We recommend you start setting `weights_only=True` for any use case where you don't have full control of the loaded file. Please open an issue on GitHub for any issues related to this experimental feature.\n",
      "  one_hot_tensor = torch.load(os.path.join(protein_path, ONE_HOT))\n",
      "C:\\Users\\darea\\AppData\\Local\\Temp\\ipykernel_11944\\3289470293.py:9: FutureWarning: You are using `torch.load` with `weights_only=False` (the current default value), which uses the default pickle module implicitly. It is possible to construct malicious pickle data which will execute arbitrary code during unpickling (See https://github.com/pytorch/pytorch/blob/main/SECURITY.md#untrusted-models for more details). In a future release, the default value for `weights_only` will be flipped to `True`. This limits the functions that could be executed during unpickling. Arbitrary objects will no longer be allowed to be loaded via this mode unless they are explicitly allowlisted by the user via `torch.serialization.add_safe_globals`. We recommend you start setting `weights_only=True` for any use case where you don't have full control of the loaded file. Please open an issue on GitHub for any issues related to this experimental feature.\n",
      "  embedding_tensor = torch.load(filename, map_location=torch.device('cpu'))  # Ensure loading on CPU\n"
     ]
    }
   ],
   "source": [
    "#Data preparation\n",
    "protein_path = r\"mutation_data\\1A0N\"\n",
    "mutations_path = r\"mutation_data\\1A0N.csv\"\n",
    "\n",
    "mutations = pd.read_csv(mutations_path)\n",
    "\n",
    "if remove_indels:\n",
    "    mutations = mutations[~mutations['mut_type'].str.contains('ins|del')].reset_index(drop=True)\n",
    "    \n",
    "# Load and preprocess the data for each protein\n",
    "coords_tensor = torch.load(os.path.join(protein_path, COORDS))\n",
    "delta_g_tensor = torch.load(os.path.join(protein_path, DELTA_G))\n",
    "mask_tensor = torch.load(os.path.join(protein_path, MASKS))\n",
    "one_hot_tensor = torch.load(os.path.join(protein_path, ONE_HOT))\n",
    "embedding_tensor = load_embedding_tensor(os.path.join(protein_path, PROTT5_EMBEDDINGS))\n",
    "\n",
    "# remove the mutations with more than one mutation\n",
    "if one_mute:\n",
    "    one_mut_index = mutations[~mutations['mut_type'].str.contains(':')]\n",
    "    mutations = mutations.loc[one_mut_index.index]\n",
    "    delta_g_tensor = delta_g_tensor[one_mut_index.index]\n",
    "    one_hot_tensor = one_hot_tensor[one_mut_index.index]\n",
    "    embedding_tensor = embedding_tensor[one_mut_index.index]\n",
    "    \n",
    "mutations_data = {\n",
    "    'name': protein_path,\n",
    "    'mutations': mutations['mut_type'].to_list(),\n",
    "    'prott5': embedding_tensor,\n",
    "    'coords': coords_tensor,\n",
    "    'one_hot': one_hot_tensor,\n",
    "    'delta_g': delta_g_tensor,\n",
    "    'masks': mask_tensor\n",
    "}\n"
   ]
  },
  {
   "cell_type": "code",
   "execution_count": 22,
   "metadata": {},
   "outputs": [
    {
     "name": "stdout",
     "output_type": "stream",
     "text": [
      "Protein: mutation_data\\1A0N\n",
      "Number of mutations: 2210\n",
      "Protein T5 embeddings shape: torch.Size([2210, 58, 1024])\n",
      "Protein coords shape: torch.Size([58, 4, 3])\n",
      "Protein one hot encodings shape: torch.Size([2210, 58, 21])\n",
      "Protein delta G shape: torch.Size([2210])\n",
      "Protein masks shape: torch.Size([58])\n"
     ]
    }
   ],
   "source": [
    "#print mutation data information\n",
    "print(f\"Protein: {mutations_data['name']}\")\n",
    "print(f\"Number of mutations: {len(mutations_data['mutations'])}\")\n",
    "print(f\"Protein T5 embeddings shape: {mutations_data['prott5'].shape}\")\n",
    "print(f\"Protein coords shape: {mutations_data['coords'].shape}\")\n",
    "print(f\"Protein one hot encodings shape: {mutations_data['one_hot'].shape}\")\n",
    "print(f\"Protein delta G shape: {mutations_data['delta_g'].shape}\")\n",
    "print(f\"Protein masks shape: {mutations_data['masks'].shape}\")\n"
   ]
  },
  {
   "cell_type": "code",
   "execution_count": null,
   "metadata": {},
   "outputs": [
    {
     "name": "stdout",
     "output_type": "stream",
     "text": [
      "torch.Size([58, 1093])\n",
      "()\n",
      "The energy of <built-in function id> protein is: -17.04457664489746\n",
      "()\n",
      "The energy of <built-in function id> protein unfolded structure is: -17.634422302246094\n",
      "-0.58984566\n"
     ]
    }
   ],
   "source": [
    "#get wt folded graph\n",
    "#assuming wt is the first sequence\n",
    "seq_one_hot = mutations_data['one_hot'][0]\n",
    "proT5_emb = mutations_data['prott5'][0]\n",
    "mask = mutations_data['masks'][0]\n",
    "coords_tensor = mutations_data['coords']\n",
    "protein_graph = get_graph( coords_tensor ,seq_one_hot, proT5_emb,mask)\n",
    "print(protein_graph.shape)\n",
    "#get wt unfolded graph\n",
    "protein_unfolded_graph = get_unfolded_graph( coords_tensor ,seq_one_hot, proT5_emb,mask)\n",
    "#calculate dG\n",
    "with torch.no_grad():\n",
    "    Gf = model(protein_graph.unsqueeze(0))\n",
    "    Gf = Gf.cpu().numpy()\n",
    "    Gf = Gf[0]\n",
    "    print(Gf.shape) \n",
    "    print(f\"The energy of the folded protein is: {Gf}\")\n",
    "\n",
    "    Gu = model(protein_unfolded_graph.unsqueeze(0))\n",
    "    Gu = Gu.cpu().numpy()\n",
    "    Gu = Gu[0]\n",
    "    print(Gu.shape)\n",
    "    print(f\"The energy of the unfolded protein unfolded structure is: {Gu}\")\n",
    "    \n",
    "# Calculate the deltaG\n",
    "deltaG = Gu - Gf\n",
    "print(deltaG)\n"
   ]
  },
  {
   "cell_type": "code",
   "execution_count": null,
   "metadata": {},
   "outputs": [],
   "source": [
    "#Calculate the dG for all mutations\n",
    "dG = []\n",
    "for i in range(1,len(mutations_data['one_hot'])):\n",
    "    seq_one_hot = mutations_data['one_hot'][i]\n",
    "    proT5_emb = mutations_data['prott5'][i]\n",
    "    mask = mutations_data['masks'][i]\n",
    "    coords_tensor = mutations_data['coords']\n",
    "    protein_graph = get_graph( coords_tensor ,seq_one_hot, proT5_emb,mask)\n",
    "    protein_unfolded_graph = get_unfolded_graph( coords_tensor ,seq_one_hot, proT5_emb,mask)\n",
    "    with torch.no_grad():\n",
    "        Gf = model(protein_graph.unsqueeze(0))\n",
    "        Gf = Gf.cpu().numpy()\n",
    "        Gf = Gf[0]\n",
    "        Gu = model(protein_unfolded_graph.unsqueeze(0))\n",
    "        Gu = Gu.cpu().numpy()\n",
    "        Gu = Gu[0]\n",
    "        deltaG = Gu - Gf\n",
    "        dG.append(deltaG)\n",
    "\n",
    "print(dG)\n",
    "#average dG\n",
    "print(np.mean(dG))\n",
    "#avarage ddG\n",
    "print(np.mean(dG)-deltaG)\n"
   ]
  }
 ],
 "metadata": {
  "kernelspec": {
   "display_name": "base",
   "language": "python",
   "name": "python3"
  },
  "language_info": {
   "codemirror_mode": {
    "name": "ipython",
    "version": 3
   },
   "file_extension": ".py",
   "mimetype": "text/x-python",
   "name": "python",
   "nbconvert_exporter": "python",
   "pygments_lexer": "ipython3",
   "version": "3.12.7"
  }
 },
 "nbformat": 4,
 "nbformat_minor": 2
}
